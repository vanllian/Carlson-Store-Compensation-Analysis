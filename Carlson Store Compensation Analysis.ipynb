{
 "cells": [
  {
   "cell_type": "markdown",
   "metadata": {},
   "source": [
    "## Carlson Department Store Compensation Analysis"
   ]
  },
  {
   "cell_type": "markdown",
   "metadata": {},
   "source": [
    "The Carlson Department Store suffered heavy damage when a hurricane struck on August 31. The store was closed for four months (September through December), and Carlson is now involved in a dis-pute with its insurance company about the amount of lost sales during the time the store was closed. Two key issues must be resolved: (1) the amount of sales Carlson would have made if the hurricane had not struck, and (2) whether Carlson is entitled to an additional compensation for excess sales due to increased business activity after the storm."
   ]
  },
  {
   "cell_type": "code",
   "execution_count": 31,
   "metadata": {},
   "outputs": [],
   "source": [
    "import pandas as pd\n",
    "import numpy as np"
   ]
  },
  {
   "cell_type": "code",
   "execution_count": 32,
   "metadata": {},
   "outputs": [],
   "source": [
    "import matplotlib.pyplot as plt\n",
    "import statsmodels.formula.api as smf"
   ]
  },
  {
   "cell_type": "code",
   "execution_count": 33,
   "metadata": {},
   "outputs": [
    {
     "data": {
      "text/html": [
       "<div>\n",
       "<style scoped>\n",
       "    .dataframe tbody tr th:only-of-type {\n",
       "        vertical-align: middle;\n",
       "    }\n",
       "\n",
       "    .dataframe tbody tr th {\n",
       "        vertical-align: top;\n",
       "    }\n",
       "\n",
       "    .dataframe thead th {\n",
       "        text-align: right;\n",
       "    }\n",
       "</style>\n",
       "<table border=\"1\" class=\"dataframe\">\n",
       "  <thead>\n",
       "    <tr style=\"text-align: right;\">\n",
       "      <th></th>\n",
       "      <th>Month</th>\n",
       "      <th>Year</th>\n",
       "      <th>Store</th>\n",
       "      <th>County</th>\n",
       "    </tr>\n",
       "  </thead>\n",
       "  <tbody>\n",
       "    <tr>\n",
       "      <th>0</th>\n",
       "      <td>January</td>\n",
       "      <td>2012</td>\n",
       "      <td>NaN</td>\n",
       "      <td>NaN</td>\n",
       "    </tr>\n",
       "    <tr>\n",
       "      <th>1</th>\n",
       "      <td>February</td>\n",
       "      <td>2012</td>\n",
       "      <td>NaN</td>\n",
       "      <td>NaN</td>\n",
       "    </tr>\n",
       "    <tr>\n",
       "      <th>2</th>\n",
       "      <td>March</td>\n",
       "      <td>2012</td>\n",
       "      <td>NaN</td>\n",
       "      <td>NaN</td>\n",
       "    </tr>\n",
       "    <tr>\n",
       "      <th>3</th>\n",
       "      <td>April</td>\n",
       "      <td>2012</td>\n",
       "      <td>NaN</td>\n",
       "      <td>NaN</td>\n",
       "    </tr>\n",
       "    <tr>\n",
       "      <th>4</th>\n",
       "      <td>May</td>\n",
       "      <td>2012</td>\n",
       "      <td>NaN</td>\n",
       "      <td>NaN</td>\n",
       "    </tr>\n",
       "    <tr>\n",
       "      <th>5</th>\n",
       "      <td>June</td>\n",
       "      <td>2012</td>\n",
       "      <td>NaN</td>\n",
       "      <td>NaN</td>\n",
       "    </tr>\n",
       "    <tr>\n",
       "      <th>6</th>\n",
       "      <td>July</td>\n",
       "      <td>2012</td>\n",
       "      <td>NaN</td>\n",
       "      <td>NaN</td>\n",
       "    </tr>\n",
       "    <tr>\n",
       "      <th>7</th>\n",
       "      <td>August</td>\n",
       "      <td>2012</td>\n",
       "      <td>NaN</td>\n",
       "      <td>NaN</td>\n",
       "    </tr>\n",
       "    <tr>\n",
       "      <th>8</th>\n",
       "      <td>September</td>\n",
       "      <td>2012</td>\n",
       "      <td>1.71</td>\n",
       "      <td>55.8</td>\n",
       "    </tr>\n",
       "    <tr>\n",
       "      <th>9</th>\n",
       "      <td>October</td>\n",
       "      <td>2012</td>\n",
       "      <td>1.90</td>\n",
       "      <td>56.4</td>\n",
       "    </tr>\n",
       "    <tr>\n",
       "      <th>10</th>\n",
       "      <td>November</td>\n",
       "      <td>2012</td>\n",
       "      <td>2.74</td>\n",
       "      <td>71.4</td>\n",
       "    </tr>\n",
       "    <tr>\n",
       "      <th>11</th>\n",
       "      <td>December</td>\n",
       "      <td>2012</td>\n",
       "      <td>4.20</td>\n",
       "      <td>117.6</td>\n",
       "    </tr>\n",
       "  </tbody>\n",
       "</table>\n",
       "</div>"
      ],
      "text/plain": [
       "        Month  Year  Store  County\n",
       "0     January  2012    NaN     NaN\n",
       "1    February  2012    NaN     NaN\n",
       "2       March  2012    NaN     NaN\n",
       "3       April  2012    NaN     NaN\n",
       "4         May  2012    NaN     NaN\n",
       "5        June  2012    NaN     NaN\n",
       "6        July  2012    NaN     NaN\n",
       "7      August  2012    NaN     NaN\n",
       "8   September  2012   1.71    55.8\n",
       "9     October  2012   1.90    56.4\n",
       "10   November  2012   2.74    71.4\n",
       "11   December  2012   4.20   117.6"
      ]
     },
     "execution_count": 33,
     "metadata": {},
     "output_type": "execute_result"
    }
   ],
   "source": [
    "df = pd.read_csv('hurricane.csv')\n",
    "df.head(12)"
   ]
  },
  {
   "cell_type": "code",
   "execution_count": 34,
   "metadata": {},
   "outputs": [
    {
     "data": {
      "text/plain": [
       "Month      object\n",
       "Year        int64\n",
       "Store     float64\n",
       "County    float64\n",
       "dtype: object"
      ]
     },
     "execution_count": 34,
     "metadata": {},
     "output_type": "execute_result"
    }
   ],
   "source": [
    "df.dtypes"
   ]
  },
  {
   "cell_type": "code",
   "execution_count": 35,
   "metadata": {},
   "outputs": [],
   "source": [
    "# Create new column Date for plotting"
   ]
  },
  {
   "cell_type": "code",
   "execution_count": 36,
   "metadata": {},
   "outputs": [
    {
     "data": {
      "text/plain": [
       "Month      object\n",
       "Year       object\n",
       "Store     float64\n",
       "County    float64\n",
       "dtype: object"
      ]
     },
     "execution_count": 36,
     "metadata": {},
     "output_type": "execute_result"
    }
   ],
   "source": [
    "df['Year'] = df['Year'].astype(str)\n",
    "df.dtypes"
   ]
  },
  {
   "cell_type": "code",
   "execution_count": 37,
   "metadata": {},
   "outputs": [],
   "source": [
    "# Combine Month+Year into new column Date"
   ]
  },
  {
   "cell_type": "code",
   "execution_count": 38,
   "metadata": {},
   "outputs": [
    {
     "data": {
      "text/html": [
       "<div>\n",
       "<style scoped>\n",
       "    .dataframe tbody tr th:only-of-type {\n",
       "        vertical-align: middle;\n",
       "    }\n",
       "\n",
       "    .dataframe tbody tr th {\n",
       "        vertical-align: top;\n",
       "    }\n",
       "\n",
       "    .dataframe thead th {\n",
       "        text-align: right;\n",
       "    }\n",
       "</style>\n",
       "<table border=\"1\" class=\"dataframe\">\n",
       "  <thead>\n",
       "    <tr style=\"text-align: right;\">\n",
       "      <th></th>\n",
       "      <th>Date</th>\n",
       "      <th>Month</th>\n",
       "      <th>Year</th>\n",
       "      <th>Store</th>\n",
       "      <th>County</th>\n",
       "    </tr>\n",
       "  </thead>\n",
       "  <tbody>\n",
       "    <tr>\n",
       "      <th>0</th>\n",
       "      <td>2012-01-01</td>\n",
       "      <td>January</td>\n",
       "      <td>2012</td>\n",
       "      <td>NaN</td>\n",
       "      <td>NaN</td>\n",
       "    </tr>\n",
       "    <tr>\n",
       "      <th>1</th>\n",
       "      <td>2012-02-01</td>\n",
       "      <td>February</td>\n",
       "      <td>2012</td>\n",
       "      <td>NaN</td>\n",
       "      <td>NaN</td>\n",
       "    </tr>\n",
       "    <tr>\n",
       "      <th>2</th>\n",
       "      <td>2012-03-01</td>\n",
       "      <td>March</td>\n",
       "      <td>2012</td>\n",
       "      <td>NaN</td>\n",
       "      <td>NaN</td>\n",
       "    </tr>\n",
       "    <tr>\n",
       "      <th>3</th>\n",
       "      <td>2012-04-01</td>\n",
       "      <td>April</td>\n",
       "      <td>2012</td>\n",
       "      <td>NaN</td>\n",
       "      <td>NaN</td>\n",
       "    </tr>\n",
       "    <tr>\n",
       "      <th>4</th>\n",
       "      <td>2012-05-01</td>\n",
       "      <td>May</td>\n",
       "      <td>2012</td>\n",
       "      <td>NaN</td>\n",
       "      <td>NaN</td>\n",
       "    </tr>\n",
       "    <tr>\n",
       "      <th>5</th>\n",
       "      <td>2012-06-01</td>\n",
       "      <td>June</td>\n",
       "      <td>2012</td>\n",
       "      <td>NaN</td>\n",
       "      <td>NaN</td>\n",
       "    </tr>\n",
       "    <tr>\n",
       "      <th>6</th>\n",
       "      <td>2012-07-01</td>\n",
       "      <td>July</td>\n",
       "      <td>2012</td>\n",
       "      <td>NaN</td>\n",
       "      <td>NaN</td>\n",
       "    </tr>\n",
       "    <tr>\n",
       "      <th>7</th>\n",
       "      <td>2012-08-01</td>\n",
       "      <td>August</td>\n",
       "      <td>2012</td>\n",
       "      <td>NaN</td>\n",
       "      <td>NaN</td>\n",
       "    </tr>\n",
       "    <tr>\n",
       "      <th>8</th>\n",
       "      <td>2012-09-01</td>\n",
       "      <td>September</td>\n",
       "      <td>2012</td>\n",
       "      <td>1.71</td>\n",
       "      <td>55.8</td>\n",
       "    </tr>\n",
       "    <tr>\n",
       "      <th>9</th>\n",
       "      <td>2012-10-01</td>\n",
       "      <td>October</td>\n",
       "      <td>2012</td>\n",
       "      <td>1.90</td>\n",
       "      <td>56.4</td>\n",
       "    </tr>\n",
       "    <tr>\n",
       "      <th>10</th>\n",
       "      <td>2012-11-01</td>\n",
       "      <td>November</td>\n",
       "      <td>2012</td>\n",
       "      <td>2.74</td>\n",
       "      <td>71.4</td>\n",
       "    </tr>\n",
       "    <tr>\n",
       "      <th>11</th>\n",
       "      <td>2012-12-01</td>\n",
       "      <td>December</td>\n",
       "      <td>2012</td>\n",
       "      <td>4.20</td>\n",
       "      <td>117.6</td>\n",
       "    </tr>\n",
       "  </tbody>\n",
       "</table>\n",
       "</div>"
      ],
      "text/plain": [
       "         Date      Month  Year  Store  County\n",
       "0  2012-01-01    January  2012    NaN     NaN\n",
       "1  2012-02-01   February  2012    NaN     NaN\n",
       "2  2012-03-01      March  2012    NaN     NaN\n",
       "3  2012-04-01      April  2012    NaN     NaN\n",
       "4  2012-05-01        May  2012    NaN     NaN\n",
       "5  2012-06-01       June  2012    NaN     NaN\n",
       "6  2012-07-01       July  2012    NaN     NaN\n",
       "7  2012-08-01     August  2012    NaN     NaN\n",
       "8  2012-09-01  September  2012   1.71    55.8\n",
       "9  2012-10-01    October  2012   1.90    56.4\n",
       "10 2012-11-01   November  2012   2.74    71.4\n",
       "11 2012-12-01   December  2012   4.20   117.6"
      ]
     },
     "execution_count": 38,
     "metadata": {},
     "output_type": "execute_result"
    }
   ],
   "source": [
    "aux = pd.to_datetime(df['Year'] + df['Month'], format='%Y%B')\n",
    "df.insert(0,'Date',aux)\n",
    "df[:12]"
   ]
  },
  {
   "cell_type": "code",
   "execution_count": 39,
   "metadata": {},
   "outputs": [],
   "source": [
    "# Convert Year back to numeric"
   ]
  },
  {
   "cell_type": "code",
   "execution_count": 40,
   "metadata": {},
   "outputs": [
    {
     "data": {
      "text/plain": [
       "Date      datetime64[ns]\n",
       "Month             object\n",
       "Year               int64\n",
       "Store            float64\n",
       "County           float64\n",
       "dtype: object"
      ]
     },
     "execution_count": 40,
     "metadata": {},
     "output_type": "execute_result"
    }
   ],
   "source": [
    "df['Year'] = pd.to_numeric(df['Year'])\n",
    "df.dtypes"
   ]
  },
  {
   "cell_type": "markdown",
   "metadata": {},
   "source": [
    "### Estimated sales of Carlson Store had there been no hurricane"
   ]
  },
  {
   "cell_type": "code",
   "execution_count": 41,
   "metadata": {},
   "outputs": [
    {
     "data": {
      "text/html": [
       "<div>\n",
       "<style scoped>\n",
       "    .dataframe tbody tr th:only-of-type {\n",
       "        vertical-align: middle;\n",
       "    }\n",
       "\n",
       "    .dataframe tbody tr th {\n",
       "        vertical-align: top;\n",
       "    }\n",
       "\n",
       "    .dataframe thead th {\n",
       "        text-align: right;\n",
       "    }\n",
       "</style>\n",
       "<table border=\"1\" class=\"dataframe\">\n",
       "  <thead>\n",
       "    <tr style=\"text-align: right;\">\n",
       "      <th></th>\n",
       "      <th>Date</th>\n",
       "      <th>Month</th>\n",
       "      <th>Year</th>\n",
       "      <th>Store</th>\n",
       "      <th>Store_pred</th>\n",
       "      <th>County</th>\n",
       "    </tr>\n",
       "  </thead>\n",
       "  <tbody>\n",
       "    <tr>\n",
       "      <th>51</th>\n",
       "      <td>2016-04-01</td>\n",
       "      <td>April</td>\n",
       "      <td>2016</td>\n",
       "      <td>2.48</td>\n",
       "      <td>2.487500</td>\n",
       "      <td>58.2</td>\n",
       "    </tr>\n",
       "    <tr>\n",
       "      <th>52</th>\n",
       "      <td>2016-05-01</td>\n",
       "      <td>May</td>\n",
       "      <td>2016</td>\n",
       "      <td>2.73</td>\n",
       "      <td>2.702500</td>\n",
       "      <td>60.0</td>\n",
       "    </tr>\n",
       "    <tr>\n",
       "      <th>53</th>\n",
       "      <td>2016-06-01</td>\n",
       "      <td>June</td>\n",
       "      <td>2016</td>\n",
       "      <td>2.37</td>\n",
       "      <td>2.482500</td>\n",
       "      <td>57.0</td>\n",
       "    </tr>\n",
       "    <tr>\n",
       "      <th>54</th>\n",
       "      <td>2016-07-01</td>\n",
       "      <td>July</td>\n",
       "      <td>2016</td>\n",
       "      <td>2.31</td>\n",
       "      <td>2.477500</td>\n",
       "      <td>57.6</td>\n",
       "    </tr>\n",
       "    <tr>\n",
       "      <th>55</th>\n",
       "      <td>2016-08-01</td>\n",
       "      <td>August</td>\n",
       "      <td>2016</td>\n",
       "      <td>2.23</td>\n",
       "      <td>2.542500</td>\n",
       "      <td>61.8</td>\n",
       "    </tr>\n",
       "    <tr>\n",
       "      <th>56</th>\n",
       "      <td>2016-09-01</td>\n",
       "      <td>September</td>\n",
       "      <td>2016</td>\n",
       "      <td>NaN</td>\n",
       "      <td>2.230833</td>\n",
       "      <td>69.0</td>\n",
       "    </tr>\n",
       "    <tr>\n",
       "      <th>57</th>\n",
       "      <td>2016-10-01</td>\n",
       "      <td>October</td>\n",
       "      <td>2016</td>\n",
       "      <td>NaN</td>\n",
       "      <td>2.548333</td>\n",
       "      <td>75.0</td>\n",
       "    </tr>\n",
       "    <tr>\n",
       "      <th>58</th>\n",
       "      <td>2016-11-01</td>\n",
       "      <td>November</td>\n",
       "      <td>2016</td>\n",
       "      <td>NaN</td>\n",
       "      <td>3.108333</td>\n",
       "      <td>85.2</td>\n",
       "    </tr>\n",
       "    <tr>\n",
       "      <th>59</th>\n",
       "      <td>2016-12-01</td>\n",
       "      <td>December</td>\n",
       "      <td>2016</td>\n",
       "      <td>NaN</td>\n",
       "      <td>4.520833</td>\n",
       "      <td>121.8</td>\n",
       "    </tr>\n",
       "  </tbody>\n",
       "</table>\n",
       "</div>"
      ],
      "text/plain": [
       "         Date      Month  Year  Store  Store_pred  County\n",
       "51 2016-04-01      April  2016   2.48    2.487500    58.2\n",
       "52 2016-05-01        May  2016   2.73    2.702500    60.0\n",
       "53 2016-06-01       June  2016   2.37    2.482500    57.0\n",
       "54 2016-07-01       July  2016   2.31    2.477500    57.6\n",
       "55 2016-08-01     August  2016   2.23    2.542500    61.8\n",
       "56 2016-09-01  September  2016    NaN    2.230833    69.0\n",
       "57 2016-10-01    October  2016    NaN    2.548333    75.0\n",
       "58 2016-11-01   November  2016    NaN    3.108333    85.2\n",
       "59 2016-12-01   December  2016    NaN    4.520833   121.8"
      ]
     },
     "execution_count": 41,
     "metadata": {},
     "output_type": "execute_result"
    }
   ],
   "source": [
    "model1 = smf.ols('Store ~ Year + C(Month)',data = df).fit()\n",
    "# Add column with predicted values\n",
    "df.insert(4,'Store_pred',model1.predict(df))\n",
    "df.tail(9)"
   ]
  },
  {
   "cell_type": "markdown",
   "metadata": {},
   "source": [
    "### Store sales lost had there been no hurricane"
   ]
  },
  {
   "cell_type": "code",
   "execution_count": 42,
   "metadata": {},
   "outputs": [
    {
     "data": {
      "text/plain": [
       "56    2.230833\n",
       "57    2.548333\n",
       "58    3.108333\n",
       "59    4.520833\n",
       "Name: Store_pred, dtype: float64"
      ]
     },
     "execution_count": 42,
     "metadata": {},
     "output_type": "execute_result"
    }
   ],
   "source": [
    "loss = df['Store_pred'].tail(4)\n",
    "loss"
   ]
  },
  {
   "cell_type": "code",
   "execution_count": 43,
   "metadata": {},
   "outputs": [
    {
     "data": {
      "image/png": "[encoded data removed]",
      "text/plain": [
       "<Figure size 432x288 with 1 Axes>"
      ]
     },
     "metadata": {
      "needs_background": "light"
     },
     "output_type": "display_data"
    }
   ],
   "source": [
    "#plt.figure(figsize = (14,6))\n",
    "plt.plot(df['Date'],df['Store'],label='Actual Sales',markersize = 4)\n",
    "plt.plot(df['Date'],df['Store_pred'],'r',label='Predicted Sales')\n",
    "plt.xlabel(\"\")\n",
    "plt.ylabel(\"Store Sales\")\n",
    "plt.legend()\n",
    "plt.grid();"
   ]
  },
  {
   "cell_type": "markdown",
   "metadata": {},
   "source": [
    "### Estimate of county-wide store sales had there been no hurricane"
   ]
  },
  {
   "cell_type": "code",
   "execution_count": 44,
   "metadata": {},
   "outputs": [],
   "source": [
    "# Split County sales in two parts: 2012-Aug 2016, and, Sep 2016-Dec 2016"
   ]
  },
  {
   "cell_type": "code",
   "execution_count": 45,
   "metadata": {},
   "outputs": [
    {
     "data": {
      "text/html": [
       "<div>\n",
       "<style scoped>\n",
       "    .dataframe tbody tr th:only-of-type {\n",
       "        vertical-align: middle;\n",
       "    }\n",
       "\n",
       "    .dataframe tbody tr th {\n",
       "        vertical-align: top;\n",
       "    }\n",
       "\n",
       "    .dataframe thead th {\n",
       "        text-align: right;\n",
       "    }\n",
       "</style>\n",
       "<table border=\"1\" class=\"dataframe\">\n",
       "  <thead>\n",
       "    <tr style=\"text-align: right;\">\n",
       "      <th></th>\n",
       "      <th>Date</th>\n",
       "      <th>Month</th>\n",
       "      <th>Year</th>\n",
       "      <th>Store</th>\n",
       "      <th>Store_pred</th>\n",
       "      <th>County</th>\n",
       "    </tr>\n",
       "  </thead>\n",
       "  <tbody>\n",
       "    <tr>\n",
       "      <th>0</th>\n",
       "      <td>2012-01-01</td>\n",
       "      <td>January</td>\n",
       "      <td>2012</td>\n",
       "      <td>NaN</td>\n",
       "      <td>1.824167</td>\n",
       "      <td>NaN</td>\n",
       "    </tr>\n",
       "    <tr>\n",
       "      <th>1</th>\n",
       "      <td>2012-02-01</td>\n",
       "      <td>February</td>\n",
       "      <td>2012</td>\n",
       "      <td>NaN</td>\n",
       "      <td>1.656667</td>\n",
       "      <td>NaN</td>\n",
       "    </tr>\n",
       "    <tr>\n",
       "      <th>2</th>\n",
       "      <td>2012-03-01</td>\n",
       "      <td>March</td>\n",
       "      <td>2012</td>\n",
       "      <td>NaN</td>\n",
       "      <td>1.956667</td>\n",
       "      <td>NaN</td>\n",
       "    </tr>\n",
       "    <tr>\n",
       "      <th>3</th>\n",
       "      <td>2012-04-01</td>\n",
       "      <td>April</td>\n",
       "      <td>2012</td>\n",
       "      <td>NaN</td>\n",
       "      <td>1.954167</td>\n",
       "      <td>NaN</td>\n",
       "    </tr>\n",
       "    <tr>\n",
       "      <th>4</th>\n",
       "      <td>2012-05-01</td>\n",
       "      <td>May</td>\n",
       "      <td>2012</td>\n",
       "      <td>NaN</td>\n",
       "      <td>2.169167</td>\n",
       "      <td>NaN</td>\n",
       "    </tr>\n",
       "  </tbody>\n",
       "</table>\n",
       "</div>"
      ],
      "text/plain": [
       "        Date     Month  Year  Store  Store_pred  County\n",
       "0 2012-01-01   January  2012    NaN    1.824167     NaN\n",
       "1 2012-02-01  February  2012    NaN    1.656667     NaN\n",
       "2 2012-03-01     March  2012    NaN    1.956667     NaN\n",
       "3 2012-04-01     April  2012    NaN    1.954167     NaN\n",
       "4 2012-05-01       May  2012    NaN    2.169167     NaN"
      ]
     },
     "execution_count": 45,
     "metadata": {},
     "output_type": "execute_result"
    }
   ],
   "source": [
    "df2a = df.loc[0:55].copy()\n",
    "df2a.head()"
   ]
  },
  {
   "cell_type": "code",
   "execution_count": 46,
   "metadata": {},
   "outputs": [
    {
     "data": {
      "text/html": [
       "<div>\n",
       "<style scoped>\n",
       "    .dataframe tbody tr th:only-of-type {\n",
       "        vertical-align: middle;\n",
       "    }\n",
       "\n",
       "    .dataframe tbody tr th {\n",
       "        vertical-align: top;\n",
       "    }\n",
       "\n",
       "    .dataframe thead th {\n",
       "        text-align: right;\n",
       "    }\n",
       "</style>\n",
       "<table border=\"1\" class=\"dataframe\">\n",
       "  <thead>\n",
       "    <tr style=\"text-align: right;\">\n",
       "      <th></th>\n",
       "      <th>Date</th>\n",
       "      <th>Month</th>\n",
       "      <th>Year</th>\n",
       "      <th>Store</th>\n",
       "      <th>Store_pred</th>\n",
       "      <th>County</th>\n",
       "    </tr>\n",
       "  </thead>\n",
       "  <tbody>\n",
       "    <tr>\n",
       "      <th>51</th>\n",
       "      <td>2016-04-01</td>\n",
       "      <td>April</td>\n",
       "      <td>2016</td>\n",
       "      <td>2.48</td>\n",
       "      <td>2.4875</td>\n",
       "      <td>58.2</td>\n",
       "    </tr>\n",
       "    <tr>\n",
       "      <th>52</th>\n",
       "      <td>2016-05-01</td>\n",
       "      <td>May</td>\n",
       "      <td>2016</td>\n",
       "      <td>2.73</td>\n",
       "      <td>2.7025</td>\n",
       "      <td>60.0</td>\n",
       "    </tr>\n",
       "    <tr>\n",
       "      <th>53</th>\n",
       "      <td>2016-06-01</td>\n",
       "      <td>June</td>\n",
       "      <td>2016</td>\n",
       "      <td>2.37</td>\n",
       "      <td>2.4825</td>\n",
       "      <td>57.0</td>\n",
       "    </tr>\n",
       "    <tr>\n",
       "      <th>54</th>\n",
       "      <td>2016-07-01</td>\n",
       "      <td>July</td>\n",
       "      <td>2016</td>\n",
       "      <td>2.31</td>\n",
       "      <td>2.4775</td>\n",
       "      <td>57.6</td>\n",
       "    </tr>\n",
       "    <tr>\n",
       "      <th>55</th>\n",
       "      <td>2016-08-01</td>\n",
       "      <td>August</td>\n",
       "      <td>2016</td>\n",
       "      <td>2.23</td>\n",
       "      <td>2.5425</td>\n",
       "      <td>61.8</td>\n",
       "    </tr>\n",
       "  </tbody>\n",
       "</table>\n",
       "</div>"
      ],
      "text/plain": [
       "         Date   Month  Year  Store  Store_pred  County\n",
       "51 2016-04-01   April  2016   2.48      2.4875    58.2\n",
       "52 2016-05-01     May  2016   2.73      2.7025    60.0\n",
       "53 2016-06-01    June  2016   2.37      2.4825    57.0\n",
       "54 2016-07-01    July  2016   2.31      2.4775    57.6\n",
       "55 2016-08-01  August  2016   2.23      2.5425    61.8"
      ]
     },
     "execution_count": 46,
     "metadata": {},
     "output_type": "execute_result"
    }
   ],
   "source": [
    "df2a.tail()"
   ]
  },
  {
   "cell_type": "code",
   "execution_count": 47,
   "metadata": {},
   "outputs": [
    {
     "data": {
      "text/html": [
       "<div>\n",
       "<style scoped>\n",
       "    .dataframe tbody tr th:only-of-type {\n",
       "        vertical-align: middle;\n",
       "    }\n",
       "\n",
       "    .dataframe tbody tr th {\n",
       "        vertical-align: top;\n",
       "    }\n",
       "\n",
       "    .dataframe thead th {\n",
       "        text-align: right;\n",
       "    }\n",
       "</style>\n",
       "<table border=\"1\" class=\"dataframe\">\n",
       "  <thead>\n",
       "    <tr style=\"text-align: right;\">\n",
       "      <th></th>\n",
       "      <th>Date</th>\n",
       "      <th>Month</th>\n",
       "      <th>Year</th>\n",
       "      <th>Store</th>\n",
       "      <th>Store_pred</th>\n",
       "      <th>County</th>\n",
       "    </tr>\n",
       "  </thead>\n",
       "  <tbody>\n",
       "    <tr>\n",
       "      <th>56</th>\n",
       "      <td>2016-09-01</td>\n",
       "      <td>September</td>\n",
       "      <td>2016</td>\n",
       "      <td>NaN</td>\n",
       "      <td>2.230833</td>\n",
       "      <td>69.0</td>\n",
       "    </tr>\n",
       "    <tr>\n",
       "      <th>57</th>\n",
       "      <td>2016-10-01</td>\n",
       "      <td>October</td>\n",
       "      <td>2016</td>\n",
       "      <td>NaN</td>\n",
       "      <td>2.548333</td>\n",
       "      <td>75.0</td>\n",
       "    </tr>\n",
       "    <tr>\n",
       "      <th>58</th>\n",
       "      <td>2016-11-01</td>\n",
       "      <td>November</td>\n",
       "      <td>2016</td>\n",
       "      <td>NaN</td>\n",
       "      <td>3.108333</td>\n",
       "      <td>85.2</td>\n",
       "    </tr>\n",
       "    <tr>\n",
       "      <th>59</th>\n",
       "      <td>2016-12-01</td>\n",
       "      <td>December</td>\n",
       "      <td>2016</td>\n",
       "      <td>NaN</td>\n",
       "      <td>4.520833</td>\n",
       "      <td>121.8</td>\n",
       "    </tr>\n",
       "  </tbody>\n",
       "</table>\n",
       "</div>"
      ],
      "text/plain": [
       "         Date      Month  Year  Store  Store_pred  County\n",
       "56 2016-09-01  September  2016    NaN    2.230833    69.0\n",
       "57 2016-10-01    October  2016    NaN    2.548333    75.0\n",
       "58 2016-11-01   November  2016    NaN    3.108333    85.2\n",
       "59 2016-12-01   December  2016    NaN    4.520833   121.8"
      ]
     },
     "execution_count": 47,
     "metadata": {},
     "output_type": "execute_result"
    }
   ],
   "source": [
    "df2b = df.loc[56:60]\n",
    "df2b"
   ]
  },
  {
   "cell_type": "code",
   "execution_count": 48,
   "metadata": {},
   "outputs": [],
   "source": [
    "# Build a model for County sales using\n",
    "# 2012-Aug 2016 data to exclude hurricane effect"
   ]
  },
  {
   "cell_type": "code",
   "execution_count": 49,
   "metadata": {},
   "outputs": [
    {
     "data": {
      "text/plain": [
       "0.9692783821434721"
      ]
     },
     "execution_count": 49,
     "metadata": {},
     "output_type": "execute_result"
    }
   ],
   "source": [
    "model2 = smf.ols('County ~ Year + C(Month)',data = df2a).fit()\n",
    "model2.rsquared"
   ]
  },
  {
   "cell_type": "code",
   "execution_count": 50,
   "metadata": {},
   "outputs": [
    {
     "data": {
      "text/html": [
       "<div>\n",
       "<style scoped>\n",
       "    .dataframe tbody tr th:only-of-type {\n",
       "        vertical-align: middle;\n",
       "    }\n",
       "\n",
       "    .dataframe tbody tr th {\n",
       "        vertical-align: top;\n",
       "    }\n",
       "\n",
       "    .dataframe thead th {\n",
       "        text-align: right;\n",
       "    }\n",
       "</style>\n",
       "<table border=\"1\" class=\"dataframe\">\n",
       "  <thead>\n",
       "    <tr style=\"text-align: right;\">\n",
       "      <th></th>\n",
       "      <th>Date</th>\n",
       "      <th>Month</th>\n",
       "      <th>Year</th>\n",
       "      <th>Store</th>\n",
       "      <th>Store_pred</th>\n",
       "      <th>County</th>\n",
       "      <th>County_pred</th>\n",
       "    </tr>\n",
       "  </thead>\n",
       "  <tbody>\n",
       "    <tr>\n",
       "      <th>51</th>\n",
       "      <td>2016-04-01</td>\n",
       "      <td>April</td>\n",
       "      <td>2016</td>\n",
       "      <td>2.48</td>\n",
       "      <td>2.4875</td>\n",
       "      <td>58.2</td>\n",
       "      <td>55.1925</td>\n",
       "    </tr>\n",
       "    <tr>\n",
       "      <th>52</th>\n",
       "      <td>2016-05-01</td>\n",
       "      <td>May</td>\n",
       "      <td>2016</td>\n",
       "      <td>2.73</td>\n",
       "      <td>2.7025</td>\n",
       "      <td>60.0</td>\n",
       "      <td>58.0425</td>\n",
       "    </tr>\n",
       "    <tr>\n",
       "      <th>53</th>\n",
       "      <td>2016-06-01</td>\n",
       "      <td>June</td>\n",
       "      <td>2016</td>\n",
       "      <td>2.37</td>\n",
       "      <td>2.4825</td>\n",
       "      <td>57.0</td>\n",
       "      <td>54.1425</td>\n",
       "    </tr>\n",
       "    <tr>\n",
       "      <th>54</th>\n",
       "      <td>2016-07-01</td>\n",
       "      <td>July</td>\n",
       "      <td>2016</td>\n",
       "      <td>2.31</td>\n",
       "      <td>2.4775</td>\n",
       "      <td>57.6</td>\n",
       "      <td>53.0925</td>\n",
       "    </tr>\n",
       "    <tr>\n",
       "      <th>55</th>\n",
       "      <td>2016-08-01</td>\n",
       "      <td>August</td>\n",
       "      <td>2016</td>\n",
       "      <td>2.23</td>\n",
       "      <td>2.5425</td>\n",
       "      <td>61.8</td>\n",
       "      <td>59.3925</td>\n",
       "    </tr>\n",
       "  </tbody>\n",
       "</table>\n",
       "</div>"
      ],
      "text/plain": [
       "         Date   Month  Year  Store  Store_pred  County  County_pred\n",
       "51 2016-04-01   April  2016   2.48      2.4875    58.2      55.1925\n",
       "52 2016-05-01     May  2016   2.73      2.7025    60.0      58.0425\n",
       "53 2016-06-01    June  2016   2.37      2.4825    57.0      54.1425\n",
       "54 2016-07-01    July  2016   2.31      2.4775    57.6      53.0925\n",
       "55 2016-08-01  August  2016   2.23      2.5425    61.8      59.3925"
      ]
     },
     "execution_count": 50,
     "metadata": {},
     "output_type": "execute_result"
    }
   ],
   "source": [
    "df2a['County_pred'] = model2.predict(df2a)\n",
    "df2a.tail()"
   ]
  },
  {
   "cell_type": "code",
   "execution_count": 51,
   "metadata": {},
   "outputs": [],
   "source": [
    "# Predicted County sales (assuming no hurricane) for Sep 2016-Dec 2016"
   ]
  },
  {
   "cell_type": "code",
   "execution_count": 52,
   "metadata": {},
   "outputs": [
    {
     "data": {
      "text/plain": [
       "56     49.8875\n",
       "57     51.9875\n",
       "58     66.2375\n",
       "59    105.6875\n",
       "dtype: float64"
      ]
     },
     "execution_count": 52,
     "metadata": {},
     "output_type": "execute_result"
    }
   ],
   "source": [
    "yhat = model2.predict(df2b)\n",
    "yhat"
   ]
  },
  {
   "cell_type": "markdown",
   "metadata": {},
   "source": [
    "### Find monthly ratios of actual vs. predicted county sales."
   ]
  },
  {
   "cell_type": "code",
   "execution_count": 53,
   "metadata": {},
   "outputs": [],
   "source": [
    "# Actual County sales during Sep 2016-Dec 2016 "
   ]
  },
  {
   "cell_type": "code",
   "execution_count": 54,
   "metadata": {},
   "outputs": [
    {
     "data": {
      "text/plain": [
       "56     69.0\n",
       "57     75.0\n",
       "58     85.2\n",
       "59    121.8\n",
       "Name: County, dtype: float64"
      ]
     },
     "execution_count": 54,
     "metadata": {},
     "output_type": "execute_result"
    }
   ],
   "source": [
    "y = df['County'].tail(4)\n",
    "y"
   ]
  },
  {
   "cell_type": "code",
   "execution_count": 55,
   "metadata": {},
   "outputs": [],
   "source": [
    "# New DataFrame with Monthly ratios"
   ]
  },
  {
   "cell_type": "code",
   "execution_count": 56,
   "metadata": {},
   "outputs": [
    {
     "data": {
      "text/html": [
       "<div>\n",
       "<style scoped>\n",
       "    .dataframe tbody tr th:only-of-type {\n",
       "        vertical-align: middle;\n",
       "    }\n",
       "\n",
       "    .dataframe tbody tr th {\n",
       "        vertical-align: top;\n",
       "    }\n",
       "\n",
       "    .dataframe thead th {\n",
       "        text-align: right;\n",
       "    }\n",
       "</style>\n",
       "<table border=\"1\" class=\"dataframe\">\n",
       "  <thead>\n",
       "    <tr style=\"text-align: right;\">\n",
       "      <th></th>\n",
       "      <th>County_Sales</th>\n",
       "      <th>Pred_Sales</th>\n",
       "      <th>ratio</th>\n",
       "    </tr>\n",
       "  </thead>\n",
       "  <tbody>\n",
       "    <tr>\n",
       "      <th>56</th>\n",
       "      <td>69.0</td>\n",
       "      <td>49.8875</td>\n",
       "      <td>1.383112</td>\n",
       "    </tr>\n",
       "    <tr>\n",
       "      <th>57</th>\n",
       "      <td>75.0</td>\n",
       "      <td>51.9875</td>\n",
       "      <td>1.442654</td>\n",
       "    </tr>\n",
       "    <tr>\n",
       "      <th>58</th>\n",
       "      <td>85.2</td>\n",
       "      <td>66.2375</td>\n",
       "      <td>1.286280</td>\n",
       "    </tr>\n",
       "    <tr>\n",
       "      <th>59</th>\n",
       "      <td>121.8</td>\n",
       "      <td>105.6875</td>\n",
       "      <td>1.152454</td>\n",
       "    </tr>\n",
       "  </tbody>\n",
       "</table>\n",
       "</div>"
      ],
      "text/plain": [
       "    County_Sales  Pred_Sales     ratio\n",
       "56          69.0     49.8875  1.383112\n",
       "57          75.0     51.9875  1.442654\n",
       "58          85.2     66.2375  1.286280\n",
       "59         121.8    105.6875  1.152454"
      ]
     },
     "execution_count": 56,
     "metadata": {},
     "output_type": "execute_result"
    }
   ],
   "source": [
    "excess = pd.DataFrame()\n",
    "excess['County_Sales'] = y\n",
    "excess['Pred_Sales'] = yhat\n",
    "ratio = y/yhat\n",
    "excess['ratio'] = ratio\n",
    "excess"
   ]
  },
  {
   "cell_type": "markdown",
   "metadata": {},
   "source": [
    "### Sales lost (regular + excess) by Carlson Department Store"
   ]
  },
  {
   "cell_type": "code",
   "execution_count": 57,
   "metadata": {},
   "outputs": [
    {
     "data": {
      "text/html": [
       "<div>\n",
       "<style scoped>\n",
       "    .dataframe tbody tr th:only-of-type {\n",
       "        vertical-align: middle;\n",
       "    }\n",
       "\n",
       "    .dataframe tbody tr th {\n",
       "        vertical-align: top;\n",
       "    }\n",
       "\n",
       "    .dataframe thead th {\n",
       "        text-align: right;\n",
       "    }\n",
       "</style>\n",
       "<table border=\"1\" class=\"dataframe\">\n",
       "  <thead>\n",
       "    <tr style=\"text-align: right;\">\n",
       "      <th></th>\n",
       "      <th>County_Sales</th>\n",
       "      <th>Pred_Sales</th>\n",
       "      <th>ratio</th>\n",
       "      <th>loss</th>\n",
       "      <th>Total_loss</th>\n",
       "    </tr>\n",
       "  </thead>\n",
       "  <tbody>\n",
       "    <tr>\n",
       "      <th>56</th>\n",
       "      <td>69.0</td>\n",
       "      <td>49.8875</td>\n",
       "      <td>1.383112</td>\n",
       "      <td>2.230833</td>\n",
       "      <td>3.085492</td>\n",
       "    </tr>\n",
       "    <tr>\n",
       "      <th>57</th>\n",
       "      <td>75.0</td>\n",
       "      <td>51.9875</td>\n",
       "      <td>1.442654</td>\n",
       "      <td>2.548333</td>\n",
       "      <td>3.676365</td>\n",
       "    </tr>\n",
       "    <tr>\n",
       "      <th>58</th>\n",
       "      <td>85.2</td>\n",
       "      <td>66.2375</td>\n",
       "      <td>1.286280</td>\n",
       "      <td>3.108333</td>\n",
       "      <td>3.998188</td>\n",
       "    </tr>\n",
       "    <tr>\n",
       "      <th>59</th>\n",
       "      <td>121.8</td>\n",
       "      <td>105.6875</td>\n",
       "      <td>1.152454</td>\n",
       "      <td>4.520833</td>\n",
       "      <td>5.210053</td>\n",
       "    </tr>\n",
       "  </tbody>\n",
       "</table>\n",
       "</div>"
      ],
      "text/plain": [
       "    County_Sales  Pred_Sales     ratio      loss  Total_loss\n",
       "56          69.0     49.8875  1.383112  2.230833    3.085492\n",
       "57          75.0     51.9875  1.442654  2.548333    3.676365\n",
       "58          85.2     66.2375  1.286280  3.108333    3.998188\n",
       "59         121.8    105.6875  1.152454  4.520833    5.210053"
      ]
     },
     "execution_count": 57,
     "metadata": {},
     "output_type": "execute_result"
    }
   ],
   "source": [
    "excess['loss'] = loss\n",
    "excess['Total_loss'] = ratio * loss\n",
    "excess"
   ]
  },
  {
   "cell_type": "code",
   "execution_count": 79,
   "metadata": {},
   "outputs": [],
   "source": [
    "# Last column shows sales of Carlson (if store was not hit by hurricane)"
   ]
  },
  {
   "cell_type": "code",
   "execution_count": 80,
   "metadata": {},
   "outputs": [],
   "source": [
    "# Sum of last column"
   ]
  },
  {
   "cell_type": "code",
   "execution_count": 60,
   "metadata": {},
   "outputs": [
    {
     "data": {
      "text/plain": [
       "15.9700984288724"
      ]
     },
     "execution_count": 60,
     "metadata": {},
     "output_type": "execute_result"
    }
   ],
   "source": [
    "excess.Total_loss.sum()"
   ]
  },
  {
   "cell_type": "markdown",
   "metadata": {},
   "source": [
    "Carlson Department Stores can claim to the insurance company for a business interruption of $ 15,972,000"
   ]
  },
  {
   "cell_type": "markdown",
   "metadata": {},
   "source": [
    "### Carlson's Market Share"
   ]
  },
  {
   "cell_type": "code",
   "execution_count": 62,
   "metadata": {},
   "outputs": [
    {
     "data": {
      "text/html": [
       "<div>\n",
       "<style scoped>\n",
       "    .dataframe tbody tr th:only-of-type {\n",
       "        vertical-align: middle;\n",
       "    }\n",
       "\n",
       "    .dataframe tbody tr th {\n",
       "        vertical-align: top;\n",
       "    }\n",
       "\n",
       "    .dataframe thead th {\n",
       "        text-align: right;\n",
       "    }\n",
       "</style>\n",
       "<table border=\"1\" class=\"dataframe\">\n",
       "  <thead>\n",
       "    <tr style=\"text-align: right;\">\n",
       "      <th></th>\n",
       "      <th>Date</th>\n",
       "      <th>Month</th>\n",
       "      <th>Year</th>\n",
       "      <th>Store</th>\n",
       "      <th>Store_pred</th>\n",
       "      <th>County</th>\n",
       "      <th>Market_share</th>\n",
       "    </tr>\n",
       "  </thead>\n",
       "  <tbody>\n",
       "    <tr>\n",
       "      <th>54</th>\n",
       "      <td>2016-07-01</td>\n",
       "      <td>July</td>\n",
       "      <td>2016</td>\n",
       "      <td>2.31</td>\n",
       "      <td>2.477500</td>\n",
       "      <td>57.6</td>\n",
       "      <td>0.040104</td>\n",
       "    </tr>\n",
       "    <tr>\n",
       "      <th>55</th>\n",
       "      <td>2016-08-01</td>\n",
       "      <td>August</td>\n",
       "      <td>2016</td>\n",
       "      <td>2.23</td>\n",
       "      <td>2.542500</td>\n",
       "      <td>61.8</td>\n",
       "      <td>0.036084</td>\n",
       "    </tr>\n",
       "    <tr>\n",
       "      <th>56</th>\n",
       "      <td>2016-09-01</td>\n",
       "      <td>September</td>\n",
       "      <td>2016</td>\n",
       "      <td>NaN</td>\n",
       "      <td>2.230833</td>\n",
       "      <td>69.0</td>\n",
       "      <td>NaN</td>\n",
       "    </tr>\n",
       "    <tr>\n",
       "      <th>57</th>\n",
       "      <td>2016-10-01</td>\n",
       "      <td>October</td>\n",
       "      <td>2016</td>\n",
       "      <td>NaN</td>\n",
       "      <td>2.548333</td>\n",
       "      <td>75.0</td>\n",
       "      <td>NaN</td>\n",
       "    </tr>\n",
       "    <tr>\n",
       "      <th>58</th>\n",
       "      <td>2016-11-01</td>\n",
       "      <td>November</td>\n",
       "      <td>2016</td>\n",
       "      <td>NaN</td>\n",
       "      <td>3.108333</td>\n",
       "      <td>85.2</td>\n",
       "      <td>NaN</td>\n",
       "    </tr>\n",
       "    <tr>\n",
       "      <th>59</th>\n",
       "      <td>2016-12-01</td>\n",
       "      <td>December</td>\n",
       "      <td>2016</td>\n",
       "      <td>NaN</td>\n",
       "      <td>4.520833</td>\n",
       "      <td>121.8</td>\n",
       "      <td>NaN</td>\n",
       "    </tr>\n",
       "  </tbody>\n",
       "</table>\n",
       "</div>"
      ],
      "text/plain": [
       "         Date      Month  Year  Store  Store_pred  County  Market_share\n",
       "54 2016-07-01       July  2016   2.31    2.477500    57.6      0.040104\n",
       "55 2016-08-01     August  2016   2.23    2.542500    61.8      0.036084\n",
       "56 2016-09-01  September  2016    NaN    2.230833    69.0           NaN\n",
       "57 2016-10-01    October  2016    NaN    2.548333    75.0           NaN\n",
       "58 2016-11-01   November  2016    NaN    3.108333    85.2           NaN\n",
       "59 2016-12-01   December  2016    NaN    4.520833   121.8           NaN"
      ]
     },
     "execution_count": 62,
     "metadata": {},
     "output_type": "execute_result"
    }
   ],
   "source": [
    "df['Market_share'] = df['Store']/df['County']\n",
    "df.tail(6)"
   ]
  },
  {
   "cell_type": "code",
   "execution_count": 63,
   "metadata": {},
   "outputs": [],
   "source": [
    "# Predict Market share"
   ]
  },
  {
   "cell_type": "code",
   "execution_count": 64,
   "metadata": {},
   "outputs": [],
   "source": [
    "model5 = smf.ols('Market_share ~ Year + C(Month)',data = df).fit()"
   ]
  },
  {
   "cell_type": "code",
   "execution_count": 65,
   "metadata": {
    "scrolled": false
   },
   "outputs": [
    {
     "data": {
      "text/html": [
       "<div>\n",
       "<style scoped>\n",
       "    .dataframe tbody tr th:only-of-type {\n",
       "        vertical-align: middle;\n",
       "    }\n",
       "\n",
       "    .dataframe tbody tr th {\n",
       "        vertical-align: top;\n",
       "    }\n",
       "\n",
       "    .dataframe thead th {\n",
       "        text-align: right;\n",
       "    }\n",
       "</style>\n",
       "<table border=\"1\" class=\"dataframe\">\n",
       "  <thead>\n",
       "    <tr style=\"text-align: right;\">\n",
       "      <th></th>\n",
       "      <th>Date</th>\n",
       "      <th>Month</th>\n",
       "      <th>Year</th>\n",
       "      <th>Store</th>\n",
       "      <th>Store_pred</th>\n",
       "      <th>County</th>\n",
       "      <th>Market_share</th>\n",
       "      <th>Market_pred</th>\n",
       "    </tr>\n",
       "  </thead>\n",
       "  <tbody>\n",
       "    <tr>\n",
       "      <th>48</th>\n",
       "      <td>2016-01-01</td>\n",
       "      <td>January</td>\n",
       "      <td>2016</td>\n",
       "      <td>2.56</td>\n",
       "      <td>2.357500</td>\n",
       "      <td>48.0</td>\n",
       "      <td>0.053333</td>\n",
       "      <td>0.051116</td>\n",
       "    </tr>\n",
       "    <tr>\n",
       "      <th>49</th>\n",
       "      <td>2016-02-01</td>\n",
       "      <td>February</td>\n",
       "      <td>2016</td>\n",
       "      <td>2.28</td>\n",
       "      <td>2.190000</td>\n",
       "      <td>51.6</td>\n",
       "      <td>0.044186</td>\n",
       "      <td>0.045566</td>\n",
       "    </tr>\n",
       "    <tr>\n",
       "      <th>50</th>\n",
       "      <td>2016-03-01</td>\n",
       "      <td>March</td>\n",
       "      <td>2016</td>\n",
       "      <td>2.69</td>\n",
       "      <td>2.490000</td>\n",
       "      <td>57.6</td>\n",
       "      <td>0.046701</td>\n",
       "      <td>0.043651</td>\n",
       "    </tr>\n",
       "    <tr>\n",
       "      <th>51</th>\n",
       "      <td>2016-04-01</td>\n",
       "      <td>April</td>\n",
       "      <td>2016</td>\n",
       "      <td>2.48</td>\n",
       "      <td>2.487500</td>\n",
       "      <td>58.2</td>\n",
       "      <td>0.042612</td>\n",
       "      <td>0.044851</td>\n",
       "    </tr>\n",
       "    <tr>\n",
       "      <th>52</th>\n",
       "      <td>2016-05-01</td>\n",
       "      <td>May</td>\n",
       "      <td>2016</td>\n",
       "      <td>2.73</td>\n",
       "      <td>2.702500</td>\n",
       "      <td>60.0</td>\n",
       "      <td>0.045500</td>\n",
       "      <td>0.046524</td>\n",
       "    </tr>\n",
       "    <tr>\n",
       "      <th>53</th>\n",
       "      <td>2016-06-01</td>\n",
       "      <td>June</td>\n",
       "      <td>2016</td>\n",
       "      <td>2.37</td>\n",
       "      <td>2.482500</td>\n",
       "      <td>57.0</td>\n",
       "      <td>0.041579</td>\n",
       "      <td>0.045507</td>\n",
       "    </tr>\n",
       "    <tr>\n",
       "      <th>54</th>\n",
       "      <td>2016-07-01</td>\n",
       "      <td>July</td>\n",
       "      <td>2016</td>\n",
       "      <td>2.31</td>\n",
       "      <td>2.477500</td>\n",
       "      <td>57.6</td>\n",
       "      <td>0.040104</td>\n",
       "      <td>0.046218</td>\n",
       "    </tr>\n",
       "    <tr>\n",
       "      <th>55</th>\n",
       "      <td>2016-08-01</td>\n",
       "      <td>August</td>\n",
       "      <td>2016</td>\n",
       "      <td>2.23</td>\n",
       "      <td>2.542500</td>\n",
       "      <td>61.8</td>\n",
       "      <td>0.036084</td>\n",
       "      <td>0.042886</td>\n",
       "    </tr>\n",
       "    <tr>\n",
       "      <th>56</th>\n",
       "      <td>2016-09-01</td>\n",
       "      <td>September</td>\n",
       "      <td>2016</td>\n",
       "      <td>NaN</td>\n",
       "      <td>2.230833</td>\n",
       "      <td>69.0</td>\n",
       "      <td>NaN</td>\n",
       "      <td>0.043939</td>\n",
       "    </tr>\n",
       "    <tr>\n",
       "      <th>57</th>\n",
       "      <td>2016-10-01</td>\n",
       "      <td>October</td>\n",
       "      <td>2016</td>\n",
       "      <td>NaN</td>\n",
       "      <td>2.548333</td>\n",
       "      <td>75.0</td>\n",
       "      <td>NaN</td>\n",
       "      <td>0.048029</td>\n",
       "    </tr>\n",
       "    <tr>\n",
       "      <th>58</th>\n",
       "      <td>2016-11-01</td>\n",
       "      <td>November</td>\n",
       "      <td>2016</td>\n",
       "      <td>NaN</td>\n",
       "      <td>3.108333</td>\n",
       "      <td>85.2</td>\n",
       "      <td>NaN</td>\n",
       "      <td>0.047847</td>\n",
       "    </tr>\n",
       "    <tr>\n",
       "      <th>59</th>\n",
       "      <td>2016-12-01</td>\n",
       "      <td>December</td>\n",
       "      <td>2016</td>\n",
       "      <td>NaN</td>\n",
       "      <td>4.520833</td>\n",
       "      <td>121.8</td>\n",
       "      <td>NaN</td>\n",
       "      <td>0.046326</td>\n",
       "    </tr>\n",
       "  </tbody>\n",
       "</table>\n",
       "</div>"
      ],
      "text/plain": [
       "         Date      Month  Year  Store  Store_pred  County  Market_share  \\\n",
       "48 2016-01-01    January  2016   2.56    2.357500    48.0      0.053333   \n",
       "49 2016-02-01   February  2016   2.28    2.190000    51.6      0.044186   \n",
       "50 2016-03-01      March  2016   2.69    2.490000    57.6      0.046701   \n",
       "51 2016-04-01      April  2016   2.48    2.487500    58.2      0.042612   \n",
       "52 2016-05-01        May  2016   2.73    2.702500    60.0      0.045500   \n",
       "53 2016-06-01       June  2016   2.37    2.482500    57.0      0.041579   \n",
       "54 2016-07-01       July  2016   2.31    2.477500    57.6      0.040104   \n",
       "55 2016-08-01     August  2016   2.23    2.542500    61.8      0.036084   \n",
       "56 2016-09-01  September  2016    NaN    2.230833    69.0           NaN   \n",
       "57 2016-10-01    October  2016    NaN    2.548333    75.0           NaN   \n",
       "58 2016-11-01   November  2016    NaN    3.108333    85.2           NaN   \n",
       "59 2016-12-01   December  2016    NaN    4.520833   121.8           NaN   \n",
       "\n",
       "    Market_pred  \n",
       "48     0.051116  \n",
       "49     0.045566  \n",
       "50     0.043651  \n",
       "51     0.044851  \n",
       "52     0.046524  \n",
       "53     0.045507  \n",
       "54     0.046218  \n",
       "55     0.042886  \n",
       "56     0.043939  \n",
       "57     0.048029  \n",
       "58     0.047847  \n",
       "59     0.046326  "
      ]
     },
     "execution_count": 65,
     "metadata": {},
     "output_type": "execute_result"
    }
   ],
   "source": [
    "df['Market_pred'] = model5.predict(df)\n",
    "df.tail(12)"
   ]
  },
  {
   "cell_type": "markdown",
   "metadata": {},
   "source": [
    "### Monthly Total sales lost by Carlson Department Store - Approach 2"
   ]
  },
  {
   "cell_type": "code",
   "execution_count": 72,
   "metadata": {},
   "outputs": [
    {
     "data": {
      "text/html": [
       "<div>\n",
       "<style scoped>\n",
       "    .dataframe tbody tr th:only-of-type {\n",
       "        vertical-align: middle;\n",
       "    }\n",
       "\n",
       "    .dataframe tbody tr th {\n",
       "        vertical-align: top;\n",
       "    }\n",
       "\n",
       "    .dataframe thead th {\n",
       "        text-align: right;\n",
       "    }\n",
       "</style>\n",
       "<table border=\"1\" class=\"dataframe\">\n",
       "  <thead>\n",
       "    <tr style=\"text-align: right;\">\n",
       "      <th></th>\n",
       "      <th>Date</th>\n",
       "      <th>Month</th>\n",
       "      <th>Year</th>\n",
       "      <th>Store</th>\n",
       "      <th>Store_pred</th>\n",
       "      <th>County</th>\n",
       "      <th>Market_share</th>\n",
       "      <th>Market_pred</th>\n",
       "    </tr>\n",
       "  </thead>\n",
       "  <tbody>\n",
       "    <tr>\n",
       "      <th>56</th>\n",
       "      <td>2016-09-01</td>\n",
       "      <td>September</td>\n",
       "      <td>2016</td>\n",
       "      <td>NaN</td>\n",
       "      <td>2.230833</td>\n",
       "      <td>69.0</td>\n",
       "      <td>NaN</td>\n",
       "      <td>0.043939</td>\n",
       "    </tr>\n",
       "    <tr>\n",
       "      <th>57</th>\n",
       "      <td>2016-10-01</td>\n",
       "      <td>October</td>\n",
       "      <td>2016</td>\n",
       "      <td>NaN</td>\n",
       "      <td>2.548333</td>\n",
       "      <td>75.0</td>\n",
       "      <td>NaN</td>\n",
       "      <td>0.048029</td>\n",
       "    </tr>\n",
       "    <tr>\n",
       "      <th>58</th>\n",
       "      <td>2016-11-01</td>\n",
       "      <td>November</td>\n",
       "      <td>2016</td>\n",
       "      <td>NaN</td>\n",
       "      <td>3.108333</td>\n",
       "      <td>85.2</td>\n",
       "      <td>NaN</td>\n",
       "      <td>0.047847</td>\n",
       "    </tr>\n",
       "    <tr>\n",
       "      <th>59</th>\n",
       "      <td>2016-12-01</td>\n",
       "      <td>December</td>\n",
       "      <td>2016</td>\n",
       "      <td>NaN</td>\n",
       "      <td>4.520833</td>\n",
       "      <td>121.8</td>\n",
       "      <td>NaN</td>\n",
       "      <td>0.046326</td>\n",
       "    </tr>\n",
       "  </tbody>\n",
       "</table>\n",
       "</div>"
      ],
      "text/plain": [
       "         Date      Month  Year  Store  Store_pred  County  Market_share  \\\n",
       "56 2016-09-01  September  2016    NaN    2.230833    69.0           NaN   \n",
       "57 2016-10-01    October  2016    NaN    2.548333    75.0           NaN   \n",
       "58 2016-11-01   November  2016    NaN    3.108333    85.2           NaN   \n",
       "59 2016-12-01   December  2016    NaN    4.520833   121.8           NaN   \n",
       "\n",
       "    Market_pred  \n",
       "56     0.043939  \n",
       "57     0.048029  \n",
       "58     0.047847  \n",
       "59     0.046326  "
      ]
     },
     "execution_count": 72,
     "metadata": {},
     "output_type": "execute_result"
    }
   ],
   "source": [
    "df6 = df.loc[56:60].copy()\n",
    "df6"
   ]
  },
  {
   "cell_type": "code",
   "execution_count": 73,
   "metadata": {},
   "outputs": [
    {
     "data": {
      "text/html": [
       "<div>\n",
       "<style scoped>\n",
       "    .dataframe tbody tr th:only-of-type {\n",
       "        vertical-align: middle;\n",
       "    }\n",
       "\n",
       "    .dataframe tbody tr th {\n",
       "        vertical-align: top;\n",
       "    }\n",
       "\n",
       "    .dataframe thead th {\n",
       "        text-align: right;\n",
       "    }\n",
       "</style>\n",
       "<table border=\"1\" class=\"dataframe\">\n",
       "  <thead>\n",
       "    <tr style=\"text-align: right;\">\n",
       "      <th></th>\n",
       "      <th>Date</th>\n",
       "      <th>Month</th>\n",
       "      <th>Year</th>\n",
       "      <th>Store</th>\n",
       "      <th>Store_pred</th>\n",
       "      <th>County</th>\n",
       "      <th>Market_share</th>\n",
       "      <th>Market_pred</th>\n",
       "      <th>Total_loss</th>\n",
       "    </tr>\n",
       "  </thead>\n",
       "  <tbody>\n",
       "    <tr>\n",
       "      <th>56</th>\n",
       "      <td>2016-09-01</td>\n",
       "      <td>September</td>\n",
       "      <td>2016</td>\n",
       "      <td>NaN</td>\n",
       "      <td>2.230833</td>\n",
       "      <td>69.0</td>\n",
       "      <td>NaN</td>\n",
       "      <td>0.043939</td>\n",
       "      <td>3.031775</td>\n",
       "    </tr>\n",
       "    <tr>\n",
       "      <th>57</th>\n",
       "      <td>2016-10-01</td>\n",
       "      <td>October</td>\n",
       "      <td>2016</td>\n",
       "      <td>NaN</td>\n",
       "      <td>2.548333</td>\n",
       "      <td>75.0</td>\n",
       "      <td>NaN</td>\n",
       "      <td>0.048029</td>\n",
       "      <td>3.602180</td>\n",
       "    </tr>\n",
       "    <tr>\n",
       "      <th>58</th>\n",
       "      <td>2016-11-01</td>\n",
       "      <td>November</td>\n",
       "      <td>2016</td>\n",
       "      <td>NaN</td>\n",
       "      <td>3.108333</td>\n",
       "      <td>85.2</td>\n",
       "      <td>NaN</td>\n",
       "      <td>0.047847</td>\n",
       "      <td>4.076529</td>\n",
       "    </tr>\n",
       "    <tr>\n",
       "      <th>59</th>\n",
       "      <td>2016-12-01</td>\n",
       "      <td>December</td>\n",
       "      <td>2016</td>\n",
       "      <td>NaN</td>\n",
       "      <td>4.520833</td>\n",
       "      <td>121.8</td>\n",
       "      <td>NaN</td>\n",
       "      <td>0.046326</td>\n",
       "      <td>5.642558</td>\n",
       "    </tr>\n",
       "  </tbody>\n",
       "</table>\n",
       "</div>"
      ],
      "text/plain": [
       "         Date      Month  Year  Store  Store_pred  County  Market_share  \\\n",
       "56 2016-09-01  September  2016    NaN    2.230833    69.0           NaN   \n",
       "57 2016-10-01    October  2016    NaN    2.548333    75.0           NaN   \n",
       "58 2016-11-01   November  2016    NaN    3.108333    85.2           NaN   \n",
       "59 2016-12-01   December  2016    NaN    4.520833   121.8           NaN   \n",
       "\n",
       "    Market_pred  Total_loss  \n",
       "56     0.043939    3.031775  \n",
       "57     0.048029    3.602180  \n",
       "58     0.047847    4.076529  \n",
       "59     0.046326    5.642558  "
      ]
     },
     "execution_count": 73,
     "metadata": {},
     "output_type": "execute_result"
    }
   ],
   "source": [
    "df6['Total_loss'] = df['Market_pred'] * df['County']\n",
    "df6"
   ]
  },
  {
   "cell_type": "code",
   "execution_count": 77,
   "metadata": {},
   "outputs": [],
   "source": [
    "# Last column shows lost sales of Carlson (if store was not hit by hurricane)"
   ]
  },
  {
   "cell_type": "code",
   "execution_count": 78,
   "metadata": {},
   "outputs": [],
   "source": [
    "# Sum of last column"
   ]
  },
  {
   "cell_type": "code",
   "execution_count": 76,
   "metadata": {},
   "outputs": [
    {
     "data": {
      "text/plain": [
       "16.353041384068977"
      ]
     },
     "execution_count": 76,
     "metadata": {},
     "output_type": "execute_result"
    }
   ],
   "source": [
    "df6.Total_loss.sum()"
   ]
  },
  {
   "cell_type": "markdown",
   "metadata": {},
   "source": [
    "Carlson Department Stores can claim to the insurance company for a business interruption of $ 16,353,041"
   ]
  }
 ],
 "metadata": {
  "kernelspec": {
   "display_name": "Python 3",
   "language": "python",
   "name": "python3"
  },
  "language_info": {
   "codemirror_mode": {
    "name": "ipython",
    "version": 3
   },
   "file_extension": ".py",
   "mimetype": "text/x-python",
   "name": "python",
   "nbconvert_exporter": "python",
   "pygments_lexer": "ipython3",
   "version": "3.8.8"
  }
 },
 "nbformat": 4,
 "nbformat_minor": 2
}
